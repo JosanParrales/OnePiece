{
 "cells": [
  {
   "cell_type": "markdown",
   "id": "a7f14860",
   "metadata": {},
   "source": [
    "# Proyecto One Piece\n",
    "\n",
    "**Autor:** José Antonio Parrales de la Cruz"
   ]
  },
  {
   "cell_type": "markdown",
   "id": "00c84038",
   "metadata": {},
   "source": [
    "El objetivo de este Notebook es trabajar con los datos del archivo csv que contiene los datos de unos capitulos de una serie llamada One Piece. "
   ]
  },
  {
   "cell_type": "code",
   "execution_count": 1,
   "id": "60c7cb07",
   "metadata": {},
   "outputs": [],
   "source": [
    "import csv\n",
    "from datetime import datetime\n",
    "from collections import namedtuple\n",
    "from enum import Enum\n",
    "from matplotlib import pyplot as plt"
   ]
  },
  {
   "cell_type": "markdown",
   "id": "38c8a8f2",
   "metadata": {},
   "source": [
    "## 1. Carga de datos\n",
    "Los datos se encuentran almacenados en un fichero en formato CSV codificado en UTF-8. En este Notebook se va a trabajar con los siguientes tipos de datos:\n",
    "\n",
    "   **Integer:** Número del capítulo, número de votos del capítulo\n",
    "   \n",
    "   ***Enumerado:** Arco argumental\n",
    "   \n",
    "   **String:** Nombre del capítulo\n",
    "   \n",
    "   **Fecha:** Fecha de publicación\n",
    "   \n",
    "   **Integer:** Numero de votos para la nota\n",
    "   \n",
    "   **Float:** Nota del capitulo\n",
    "\n",
    "*Temporalmente se trabaja como string\n",
    "\n",
    "Los datos se trabajarán como una lista de tuplas. Las primeras lineas del archivo son:"
   ]
  },
  {
   "attachments": {
    "Datos.png": {
     "image/png": "[encoded data removed]"
    }
   },
   "cell_type": "markdown",
   "id": "0415dbfc",
   "metadata": {},
   "source": [
    "![Datos.png](attachment:Datos.png)"
   ]
  },
  {
   "cell_type": "code",
   "execution_count": 2,
   "id": "239e9cfa",
   "metadata": {},
   "outputs": [],
   "source": [
    "class arcoEnum(Enum):\n",
    "    EastBlue = 1\n",
    "    Alabasta = 2\n",
    "    Skypea = 3\n",
    "    Water7 = 4\n",
    "    ThrillerBark = 5\n",
    "    Marineford = 6\n",
    "    Gyojin = 7\n",
    "    Dressrosa = 8\n",
    "    Zou = 9\n",
    "    WholeCake = 10\n",
    "    Reverie = 11\n",
    "    Wano = 12\n",
    "    #No se trabaja con enumerados todavia"
   ]
  },
  {
   "cell_type": "code",
   "execution_count": 3,
   "id": "f6819448",
   "metadata": {},
   "outputs": [],
   "source": [
    "Episodio = namedtuple('Chapters', 'capitulo, arco, nombre, fecha, votos, nota')\n",
    "\n",
    "def lee_episodios(fichero):\n",
    "        with open(fichero, encoding='utf-8') as f:\n",
    "            lector = csv.reader(f)\n",
    "            next(lector)\n",
    "            capitulos = []\n",
    "            for capitulo, arco, nombre, fecha, votos, nota in lector:\n",
    "                capitulos.append(Episodio(int(capitulo),arco,nombre,datetime.strptime(fecha,'%d/%m/%Y').date(),int(votos), float(nota)))\n",
    "        return capitulos\n",
    "#No se trabaja con enumerados todavia"
   ]
  },
  {
   "cell_type": "code",
   "execution_count": 4,
   "id": "fe20b5de",
   "metadata": {},
   "outputs": [
    {
     "name": "stdout",
     "output_type": "stream",
     "text": [
      "[Chapters(capitulo=1, arco='EastBlue', nombre=\"I'm Luffy! The Man Who Will Become the Pirate King!\", fecha=datetime.date(1999, 10, 28), votos=647, nota=7.6), Chapters(capitulo=2, arco='EastBlue', nombre='The Great Swordsman Appears! Pirate Hunter Roronoa Zoro', fecha=datetime.date(1999, 11, 17), votos=473, nota=7.8), Chapters(capitulo=3, arco='EastBlue', nombre=\"Morgan vs. Luffy! Who's This Beautiful Young Girl?\", fecha=datetime.date(1999, 11, 24), votos=428, nota=7.7), Chapters(capitulo=4, arco='EastBlue', nombre=\"Luffy's Past! The Red-haired Shanks Appears!\", fecha=datetime.date(1999, 12, 8), votos=449, nota=8.1), Chapters(capitulo=5, arco='EastBlue', nombre='Fear Mysterious Power! Pirate Clown Captain Buggy!', fecha=datetime.date(1999, 12, 15), votos=370, nota=7.5)]\n"
     ]
    }
   ],
   "source": [
    "CAPITULOS = lee_episodios('.\\data\\One_Piece.csv')\n",
    "print(CAPITULOS[:5])"
   ]
  },
  {
   "cell_type": "markdown",
   "id": "ef600db0",
   "metadata": {},
   "source": [
    "## 2. Filtrado y conteo de datos"
   ]
  },
  {
   "cell_type": "markdown",
   "id": "0dc43dc1",
   "metadata": {},
   "source": [
    "Continuando con el proyecto, vamos a comenzar a trabajar los datos de la serie. Vamos a comenzar por hacer un filtrado en función del arco. Para eso haremos un filtrado de capítulos en cada arco y comparar la extensión de cada uno, pero como son demasiados capítulos, vamos a almacenar en un diccionario el número de capítulos en lugar de la lista de capítulos."
   ]
  },
  {
   "cell_type": "code",
   "execution_count": 5,
   "id": "13f9a403",
   "metadata": {},
   "outputs": [
    {
     "data": {
      "text/plain": [
       "{'Alabasta',\n",
       " 'Dressrosa',\n",
       " 'EastBlue',\n",
       " 'Gyojin',\n",
       " 'Marineford',\n",
       " 'Reverie',\n",
       " 'Skypea',\n",
       " 'ThrillerBark',\n",
       " 'Wano',\n",
       " 'Water7',\n",
       " 'WholeCake',\n",
       " 'Zou'}"
      ]
     },
     "execution_count": 5,
     "metadata": {},
     "output_type": "execute_result"
    }
   ],
   "source": [
    "Arcos= set(episodio.arco for episodio in CAPITULOS)\n",
    "Arcos"
   ]
  },
  {
   "cell_type": "code",
   "execution_count": 6,
   "id": "77f6a22a",
   "metadata": {},
   "outputs": [],
   "source": [
    "def filtrado_por_arco(lista, arco):\n",
    "    return list(filter(lambda x: arco in x, lista))"
   ]
  },
  {
   "cell_type": "code",
   "execution_count": 7,
   "id": "4077d2f3",
   "metadata": {},
   "outputs": [
    {
     "data": {
      "text/plain": [
       "[Chapters(capitulo=890, arco='Wano', nombre=\"Marco! The Keeper of Whitebeard's Last Memento!\", fecha=datetime.date(2016, 2, 13), votos=94, nota=7.2),\n",
       " Chapters(capitulo=891, arco='Wano', nombre='Climbing Up a Waterfall! A Great Journey Through the Land of ...', fecha=datetime.date(2016, 2, 20), votos=161, nota=8.5),\n",
       " Chapters(capitulo=892, arco='Wano', nombre='Wano Country! To the Land of Dancing Sakura and Samurai', fecha=datetime.date(2016, 2, 27), votos=340, nota=9.2),\n",
       " Chapters(capitulo=893, arco='Wano', nombre=\"Otama Appears! Luffy vs. Kaido's Army!\", fecha=datetime.date(2016, 3, 5), votos=171, nota=8.8),\n",
       " Chapters(capitulo=894, arco='Wano', nombre=\"He'll Come! The Legend of Ace in the Land of Wano!\", fecha=datetime.date(2016, 3, 12), votos=172, nota=8.8)]"
      ]
     },
     "execution_count": 7,
     "metadata": {},
     "output_type": "execute_result"
    }
   ],
   "source": [
    "#probamos la funcion\n",
    "filtrado_por_arco(CAPITULOS, 'Wano')[:5]"
   ]
  },
  {
   "cell_type": "code",
   "execution_count": 8,
   "id": "c57af827",
   "metadata": {},
   "outputs": [],
   "source": [
    "Dic={}\n",
    "def capitulos_por_arco(lista):\n",
    "    Dic.clear() #Usamos el clear para poder usar varias veces la funcion y que no se dupliquen los capítulos\n",
    "    for arco in Arcos:\n",
    "        Dic[arco] = len(filtrado_por_arco(lista, arco))\n",
    "#como queremos ver la extension de cada arco, no necesitamos los capitulos, por lo que usamos len para saber cuantos son\n",
    "    return Dic"
   ]
  },
  {
   "cell_type": "code",
   "execution_count": 9,
   "id": "b625e054",
   "metadata": {},
   "outputs": [
    {
     "data": {
      "text/plain": [
       "{'EastBlue': 61,\n",
       " 'Gyojin': 59,\n",
       " 'Dressrosa': 172,\n",
       " 'Reverie': 12,\n",
       " 'Alabasta': 74,\n",
       " 'Zou': 33,\n",
       " 'ThrillerBark': 60,\n",
       " 'WholeCake': 98,\n",
       " 'Skypea': 71,\n",
       " 'Marineford': 131,\n",
       " 'Wano': 69,\n",
       " 'Water7': 118}"
      ]
     },
     "execution_count": 9,
     "metadata": {},
     "output_type": "execute_result"
    }
   ],
   "source": [
    "capitulos_por_arco(CAPITULOS)"
   ]
  },
  {
   "cell_type": "markdown",
   "id": "6f093d50",
   "metadata": {},
   "source": [
    "## 3. Máximos, ordenación"
   ]
  },
  {
   "cell_type": "markdown",
   "id": "b1b5f733",
   "metadata": {},
   "source": [
    "En este apartado vamos a buscar los capítulos más gustados. Despues, vamos a ordenar los datos en base a ese resultado.\n",
    "\n",
    "Empezando por el capitulo de más nota, haremos una lista porque es posible que dos capítulos o más tengan la misma nota, por lo que ambos serían los que más nota tienen."
   ]
  },
  {
   "cell_type": "code",
   "execution_count": 10,
   "id": "dbe98b76",
   "metadata": {},
   "outputs": [],
   "source": [
    "mejorcap = []\n",
    "\n",
    "def capitulo_mayor_nota(lista):\n",
    "    mejorcap.clear()\n",
    "    for elemento in lista:\n",
    "        '''el primer elemento no se puede comparar a ninguno, por lo que usamos la siguiente instrucción para añadirlo \n",
    "        automaticamente a la lista del capítulo más gustado. De esta forma podemos comparar los demas capítulos y en caso\n",
    "        de que exista un capítulo con mejor nota, se elimine de la lista'''\n",
    "        if mejorcap == []: \n",
    "            mejorcap.append(elemento)\n",
    "        else:\n",
    "            if elemento.nota > mejorcap[0].nota:\n",
    "                mejorcap.clear() \n",
    "                mejorcap.append(elemento)\n",
    "            elif elemento.nota == mejorcap[0].nota:\n",
    "                mejorcap.append(elemento)\n",
    "            else:\n",
    "                continue \n",
    "    return mejorcap \n"
   ]
  },
  {
   "cell_type": "code",
   "execution_count": 11,
   "id": "0d7aa205",
   "metadata": {},
   "outputs": [
    {
     "data": {
      "text/plain": [
       "[Chapters(capitulo=808, arco='WholeCake', nombre='Kanashiki Kettou: Luffy tai Sanji (Kouhen)', fecha=datetime.date(2014, 7, 19), votos=571, nota=9.6)]"
      ]
     },
     "execution_count": 11,
     "metadata": {},
     "output_type": "execute_result"
    }
   ],
   "source": [
    "capitulo_mayor_nota(CAPITULOS)"
   ]
  },
  {
   "cell_type": "markdown",
   "id": "b193a790",
   "metadata": {},
   "source": [
    "Tras esto, pasamos a ordenarlos en base a la nota. Sin embargo, Jupyter lo ordena de menor a mayor nota, así que tendremos que invertir ese orden"
   ]
  },
  {
   "cell_type": "code",
   "execution_count": 12,
   "id": "a50236c1",
   "metadata": {},
   "outputs": [],
   "source": [
    "def ordena_nota_menor(lista):\n",
    "    #aqui no usamos clear ya que la variable se asigna en el acto, no se le añaden\n",
    "    ordenados_nota = sorted(lista, key=lambda o: o.nota)\n",
    "    return ordenados_nota"
   ]
  },
  {
   "cell_type": "code",
   "execution_count": 13,
   "id": "29ba28b6",
   "metadata": {},
   "outputs": [
    {
     "data": {
      "text/plain": [
       "[Chapters(capitulo=748, arco='Zou', nombre='Chika Meikyuu: Luffy tai Torokko Ningen', fecha=datetime.date(2013, 5, 25), votos=101, nota=3.8),\n",
       " Chapters(capitulo=749, arco='Zou', nombre='Kengi Hakunetsu: Law Zoro Tsui ni Kenzan!', fecha=datetime.date(2013, 6, 1), votos=96, nota=4.7),\n",
       " Chapters(capitulo=747, arco='Zou', nombre='Gin no Yousai: Luffy to Barto Daibouken', fecha=datetime.date(2013, 5, 18), votos=109, nota=4.9),\n",
       " Chapters(capitulo=336, arco='ThrillerBark', nombre='Shutsudou Chopperman! Mamore Nagisa no TV-kyoku', fecha=datetime.date(2005, 7, 2), votos=133, nota=5.6),\n",
       " Chapters(capitulo=881, arco='Reverie', nombre='Going into Action! The Implacable New Admiral of the Fleet - ...', fecha=datetime.date(2015, 12, 12), votos=120, nota=5.6)]"
      ]
     },
     "execution_count": 13,
     "metadata": {},
     "output_type": "execute_result"
    }
   ],
   "source": [
    "ordena_nota_menor(CAPITULOS)[:5]"
   ]
  },
  {
   "cell_type": "code",
   "execution_count": 14,
   "id": "c6b41a25",
   "metadata": {},
   "outputs": [],
   "source": [
    "def ordena_nota_mayor(lista):\n",
    "    #para invertir el orden, sólo tenemos que añadir reverse=True a la funcion anterior\n",
    "    ordenados_nota = sorted(lista, reverse=True, key=lambda o: o.nota)\n",
    "    return ordenados_nota"
   ]
  },
  {
   "cell_type": "code",
   "execution_count": 15,
   "id": "51a5c170",
   "metadata": {},
   "outputs": [
    {
     "data": {
      "text/plain": [
       "[Chapters(capitulo=808, arco='WholeCake', nombre='Kanashiki Kettou: Luffy tai Sanji (Kouhen)', fecha=datetime.date(2014, 7, 19), votos=571, nota=9.6),\n",
       " Chapters(capitulo=870, arco='WholeCake', nombre='A Fist of Divine Speed! Another Gear Four Application Activated!', fecha=datetime.date(2015, 9, 26), votos=683, nota=9.5),\n",
       " Chapters(capitulo=483, arco='Marineford', nombre='Kotae o Sagashite: Hiken Ace Senjou ni Shisu', fecha=datetime.date(2008, 4, 26), votos=524, nota=9.3),\n",
       " Chapters(capitulo=485, arco='Marineford', nombre='Kejime o Tsukeru: Shirohige vs Kurohige Kaizokudan', fecha=datetime.date(2008, 5, 10), votos=370, nota=9.3),\n",
       " Chapters(capitulo=377, arco='ThrillerBark', nombre='Nakama no Itami wa Waga Itami: Zoro Kesshi no Tatakai', fecha=datetime.date(2006, 4, 15), votos=359, nota=9.2)]"
      ]
     },
     "execution_count": 15,
     "metadata": {},
     "output_type": "execute_result"
    }
   ],
   "source": [
    "ordena_nota_mayor(CAPITULOS)[:5]"
   ]
  },
  {
   "cell_type": "markdown",
   "id": "40226b05",
   "metadata": {},
   "source": [
    "## 4. Trabajando diccionarios\n",
    "En este apartado vamos a ordenar los capitulos en diccionarios. Empezaremos por los capitulos que se publicaron cada año, siguiendo con las notas medias de los arcos y acabando por los capítulos que estén entre unas notas concretas."
   ]
  },
  {
   "cell_type": "code",
   "execution_count": 16,
   "id": "020c2bbb",
   "metadata": {},
   "outputs": [],
   "source": [
    "Anyos= set()\n",
    "#Veamos en que años se publicó la serie (valor unico de años)\n",
    "def anyos(lista):\n",
    "    for episodio in lista:\n",
    "        Anyos.add(episodio.fecha.year)\n",
    "    return Anyos"
   ]
  },
  {
   "cell_type": "code",
   "execution_count": 17,
   "id": "9bd1bf4d",
   "metadata": {},
   "outputs": [
    {
     "data": {
      "text/plain": [
       "{1999,\n",
       " 2000,\n",
       " 2001,\n",
       " 2002,\n",
       " 2003,\n",
       " 2004,\n",
       " 2005,\n",
       " 2006,\n",
       " 2007,\n",
       " 2008,\n",
       " 2009,\n",
       " 2010,\n",
       " 2011,\n",
       " 2012,\n",
       " 2013,\n",
       " 2014,\n",
       " 2015,\n",
       " 2016,\n",
       " 2017}"
      ]
     },
     "execution_count": 17,
     "metadata": {},
     "output_type": "execute_result"
    }
   ],
   "source": [
    "anyos(CAPITULOS)"
   ]
  },
  {
   "cell_type": "code",
   "execution_count": 18,
   "id": "77b5bb39",
   "metadata": {},
   "outputs": [],
   "source": [
    "filtrados2 = []\n",
    "def filtrado_por_anyo(lista,anyo):\n",
    "    filtrados2.clear()\n",
    "    '''A diferencia del filtrado por arco, en este caso si necesitamos la funcion clear para evitar duplicados.\n",
    "    Esto se debe a que la funcion anterior, mediante el uso de una funcion lambda, podíamos hacer que la lista\n",
    "    se hiciera siempre desde 0, ya que le atribuiamos un valor mediante el caracter (=). En este caso, como usamos la\n",
    "    funcion append, es importante asegurarse que la lista estaba vacía ya que los elementos podrian estar varias veces'''\n",
    "    for episodio in lista:\n",
    "        if episodio.fecha.year==anyo:\n",
    "            filtrados2.append((episodio.capitulo, episodio.arco, episodio.fecha))\n",
    "        else:\n",
    "            continue\n",
    "\n",
    "    return filtrados2"
   ]
  },
  {
   "cell_type": "code",
   "execution_count": 19,
   "id": "8492401f",
   "metadata": {},
   "outputs": [
    {
     "data": {
      "text/plain": [
       "[(1, 'EastBlue', datetime.date(1999, 10, 28)),\n",
       " (2, 'EastBlue', datetime.date(1999, 11, 17)),\n",
       " (3, 'EastBlue', datetime.date(1999, 11, 24)),\n",
       " (4, 'EastBlue', datetime.date(1999, 12, 8)),\n",
       " (5, 'EastBlue', datetime.date(1999, 12, 15)),\n",
       " (6, 'EastBlue', datetime.date(1999, 12, 29)),\n",
       " (7, 'EastBlue', datetime.date(1999, 12, 29)),\n",
       " (8, 'EastBlue', datetime.date(1999, 12, 29))]"
      ]
     },
     "execution_count": 19,
     "metadata": {},
     "output_type": "execute_result"
    }
   ],
   "source": [
    "filtrado_por_anyo(CAPITULOS, 1999)"
   ]
  },
  {
   "cell_type": "code",
   "execution_count": 20,
   "id": "b4470d89",
   "metadata": {},
   "outputs": [],
   "source": [
    "DicAnyo={}\n",
    "def capitulos_por_anyo(lista):\n",
    "    DicAnyo.clear()\n",
    "    for anyo in Anyos:\n",
    "        DicAnyo[anyo] = len(filtrado_por_anyo(lista, anyo))\n",
    "    return DicAnyo"
   ]
  },
  {
   "cell_type": "code",
   "execution_count": 21,
   "id": "0eaa7609",
   "metadata": {},
   "outputs": [
    {
     "data": {
      "text/plain": [
       "{1999: 8,\n",
       " 2000: 50,\n",
       " 2001: 95,\n",
       " 2002: 52,\n",
       " 2003: 52,\n",
       " 2004: 52,\n",
       " 2005: 53,\n",
       " 2006: 52,\n",
       " 2007: 52,\n",
       " 2008: 52,\n",
       " 2009: 52,\n",
       " 2010: 52,\n",
       " 2011: 53,\n",
       " 2012: 52,\n",
       " 2013: 52,\n",
       " 2014: 52,\n",
       " 2015: 52,\n",
       " 2016: 53,\n",
       " 2017: 22}"
      ]
     },
     "execution_count": 21,
     "metadata": {},
     "output_type": "execute_result"
    }
   ],
   "source": [
    "capitulos_por_anyo(CAPITULOS)"
   ]
  },
  {
   "cell_type": "markdown",
   "id": "517ff433",
   "metadata": {},
   "source": [
    "Para la nota media de los arcos, haremos algo muy similar a lo que hicimos con el diccionario de número de capítulos por arco ya que es necesario el número de capítulos para sacar la nota media, por lo que tomaremos parte de su código. Para no sobrecargar innecesariamente la pantalla, nos quedaremos con 2 decimales usando el comando round"
   ]
  },
  {
   "cell_type": "code",
   "execution_count": 22,
   "id": "0cc5231b",
   "metadata": {},
   "outputs": [],
   "source": [
    "MediaDic={}\n",
    "def media_arco(lista):\n",
    "    MediaDic.clear()\n",
    "    for arco in Arcos:\n",
    "        total=0\n",
    "        for elemento in filtrado_por_arco(lista, arco):\n",
    "            total= total+elemento.nota\n",
    "            # total = sum([nota for _, _, _, _, _, nota in elemento])\n",
    "        MediaDic[arco] = round(total/len(filtrado_por_arco(lista, arco)),2)\n",
    "    return MediaDic"
   ]
  },
  {
   "cell_type": "code",
   "execution_count": 23,
   "id": "dc0d91e4",
   "metadata": {},
   "outputs": [
    {
     "data": {
      "text/plain": [
       "{'EastBlue': 7.64,\n",
       " 'Gyojin': 7.51,\n",
       " 'Dressrosa': 7.85,\n",
       " 'Reverie': 6.98,\n",
       " 'Alabasta': 7.74,\n",
       " 'Zou': 7.35,\n",
       " 'ThrillerBark': 7.58,\n",
       " 'WholeCake': 8.04,\n",
       " 'Skypea': 7.69,\n",
       " 'Marineford': 7.95,\n",
       " 'Wano': 8.0,\n",
       " 'Water7': 7.83}"
      ]
     },
     "execution_count": 23,
     "metadata": {},
     "output_type": "execute_result"
    }
   ],
   "source": [
    "media_arco(CAPITULOS)"
   ]
  },
  {
   "cell_type": "markdown",
   "id": "8163f1e3",
   "metadata": {},
   "source": [
    "Por último, tomaremos unas notas, las cuales marcarán los rangos en los que estarán los capítulos. Por simplificar los valores, tomaremos las medidas de Suspenso(<5), Aprobado(5-6.9), Notable(7-8.9) y Sobresaliente(9-10)"
   ]
  },
  {
   "cell_type": "code",
   "execution_count": 24,
   "id": "712398ba",
   "metadata": {},
   "outputs": [],
   "source": [
    "DicSus={} ;Suspensos=[];Aprobados=[];Notables=[];Sobresalientes=[]\n",
    "def aprov_sus(lista):\n",
    "    DicSus.clear();Suspensos.clear();Aprobados.clear();Notables.clear();Sobresalientes.clear()\n",
    "    for elemento in lista:\n",
    "        if 0<=elemento.nota<5:\n",
    "            Suspensos.append(elemento)\n",
    "        elif 5<=elemento.nota<=6.9:\n",
    "            Aprobados.append(elemento)\n",
    "        elif 7<=elemento.nota<=8.9:\n",
    "            Notables.append(elemento)\n",
    "        elif 9<=elemento.nota<=10:\n",
    "             Sobresalientes.append(elemento)\n",
    "    #como se puede ver, las notas fuera del rango(0-10) no entrarían, ya que seria un fallo en los datos\n",
    "    DicSus['Suspensos']=Suspensos;DicSus['Aprobados']=Aprobados;DicSus['Notables']=Notables\n",
    "    DicSus['Sobresalientes']=Sobresalientes\n",
    "    return DicSus"
   ]
  },
  {
   "cell_type": "code",
   "execution_count": 25,
   "id": "438ae8e4",
   "metadata": {},
   "outputs": [
    {
     "data": {
      "text/plain": [
       "[Chapters(capitulo=126, arco='Alabasta', nombre='Koeteiku! Arabasta ni Ame ga Furu!', fecha=datetime.date(2001, 6, 16), votos=302, nota=9.0),\n",
       " Chapters(capitulo=278, arco='Water7', nombre='Ikitai to Ie! Oretachi wa Nakama Da!!', fecha=datetime.date(2004, 5, 22), votos=280, nota=9.1),\n",
       " Chapters(capitulo=309, arco='Water7', nombre='Kobushi ni Kometa Omoi! Luffy Konshin no Gatling', fecha=datetime.date(2004, 12, 25), votos=271, nota=9.0),\n",
       " Chapters(capitulo=312, arco='Water7', nombre='Arigatou Merry! Yuki ni Kemuru Wakare no Umi', fecha=datetime.date(2005, 1, 15), votos=273, nota=9.0),\n",
       " Chapters(capitulo=377, arco='ThrillerBark', nombre='Nakama no Itami wa Waga Itami: Zoro Kesshi no Tatakai', fecha=datetime.date(2006, 4, 15), votos=359, nota=9.2),\n",
       " Chapters(capitulo=405, arco='Marineford', nombre='Kesareta Nakama-tachi: Mugiwara Ichimi Saigo no Hi', fecha=datetime.date(2006, 10, 28), votos=358, nota=9.2),\n",
       " Chapters(capitulo=482, arco='Marineford', nombre='Hi o mo Yaki Tsukusu Chikara: Akainu Hijou no Tsuigeki', fecha=datetime.date(2008, 4, 19), votos=334, nota=9.1),\n",
       " Chapters(capitulo=483, arco='Marineford', nombre='Kotae o Sagashite: Hiken Ace Senjou ni Shisu', fecha=datetime.date(2008, 4, 26), votos=524, nota=9.3),\n",
       " Chapters(capitulo=484, arco='Marineford', nombre='Kaigun Honbu Houkai! Shirohige Kotobanaki Ikari!', fecha=datetime.date(2008, 5, 3), votos=285, nota=9.0),\n",
       " Chapters(capitulo=485, arco='Marineford', nombre='Kejime o Tsukeru: Shirohige vs Kurohige Kaizokudan', fecha=datetime.date(2008, 5, 10), votos=370, nota=9.3),\n",
       " Chapters(capitulo=719, arco='Dressrosa', nombre='Kuuchuu Kessen: Zoro Shin Hissastsu Ougi Sakuretsu!', fecha=datetime.date(2012, 11, 3), votos=262, nota=9.1),\n",
       " Chapters(capitulo=726, arco='Dressrosa', nombre='Gear Fourth! Kyoui no Bounce Man!', fecha=datetime.date(2012, 12, 22), votos=328, nota=9.2),\n",
       " Chapters(capitulo=804, arco='WholeCake', nombre='EastBlue e: Sanji Ketsui no Funade', fecha=datetime.date(2014, 6, 21), votos=215, nota=9.2),\n",
       " Chapters(capitulo=808, arco='WholeCake', nombre='Kanashiki Kettou: Luffy tai Sanji (Kouhen)', fecha=datetime.date(2014, 7, 19), votos=571, nota=9.6),\n",
       " Chapters(capitulo=817, arco='WholeCake', nombre=\"Shikemoku: Sanji no Kekkon Zen'ya\", fecha=datetime.date(2014, 9, 20), votos=242, nota=9.2),\n",
       " Chapters(capitulo=833, arco='WholeCake', nombre='Returning the Sake Cup! The Manly Jimbei Pays His Debt!', fecha=datetime.date(2015, 1, 10), votos=194, nota=9.1),\n",
       " Chapters(capitulo=868, arco='WholeCake', nombre=\"One Man's Determination! Katakuri's Deadly Big Fight!\", fecha=datetime.date(2015, 9, 12), votos=252, nota=9.1),\n",
       " Chapters(capitulo=870, arco='WholeCake', nombre='A Fist of Divine Speed! Another Gear Four Application Activated!', fecha=datetime.date(2015, 9, 26), votos=683, nota=9.5),\n",
       " Chapters(capitulo=877, arco='WholeCake', nombre=\"Time for Farewell! Pudding's One Last Request!\", fecha=datetime.date(2015, 11, 14), votos=235, nota=9.1),\n",
       " Chapters(capitulo=892, arco='Wano', nombre='Wano Country! To the Land of Dancing Sakura and Samurai', fecha=datetime.date(2016, 2, 27), votos=340, nota=9.2),\n",
       " Chapters(capitulo=912, arco='Wano', nombre='The Strongest Man in the World! Shutenmaru the Thieves Briga...', fecha=datetime.date(2016, 7, 16), votos=245, nota=9.0),\n",
       " Chapters(capitulo=914, arco='Wano', nombre='Finally Clashing! The Ferocious Luffy vs. Kaido!', fecha=datetime.date(2016, 7, 30), votos=397, nota=9.2),\n",
       " Chapters(capitulo=915, arco='Wano', nombre='Hakai-teki! Ichigeki Hissatsu no Raimei Hakke!', fecha=datetime.date(2016, 8, 6), votos=321, nota=9.1),\n",
       " Chapters(capitulo=957, arco='Wano', nombre='Big News! The Warlords Attack Incident', fecha=datetime.date(2017, 5, 27), votos=2862, nota=9.1)]"
      ]
     },
     "execution_count": 25,
     "metadata": {},
     "output_type": "execute_result"
    }
   ],
   "source": [
    "aprov_sus(CAPITULOS).get('Sobresalientes')"
   ]
  },
  {
   "cell_type": "markdown",
   "id": "f4e87c61",
   "metadata": {},
   "source": [
    "# 5. Visualización"
   ]
  },
  {
   "cell_type": "markdown",
   "id": "d7e7b39c",
   "metadata": {},
   "source": [
    "En este apartado, representaremos los datos y los analizaremos en funcion de su nota en funcion de su nota, ¿arcos distintos por año o 100 caps? "
   ]
  },
  {
   "cell_type": "code",
   "execution_count": 26,
   "id": "70edc598",
   "metadata": {},
   "outputs": [],
   "source": [
    "def evolNotas(lista,anyo):\n",
    "    notas = [e.nota for e in lista if e.fecha.year == anyo]\n",
    "    plt.plot(notas, label=' nota de los capitulos')\n",
    "    plt.legend()\n",
    "    plt.show()"
   ]
  },
  {
   "cell_type": "code",
   "execution_count": 27,
   "id": "72f4eadc",
   "metadata": {},
   "outputs": [
    {
     "data": {
      "image/png": "[encoded data removed]",
      "text/plain": [
       "<Figure size 640x480 with 1 Axes>"
      ]
     },
     "metadata": {},
     "output_type": "display_data"
    }
   ],
   "source": [
    "evolNotas(CAPITULOS, 2008)"
   ]
  }
 ],
 "metadata": {
  "kernelspec": {
   "display_name": "Python 3 (ipykernel)",
   "language": "python",
   "name": "python3"
  },
  "language_info": {
   "codemirror_mode": {
    "name": "ipython",
    "version": 3
   },
   "file_extension": ".py",
   "mimetype": "text/x-python",
   "name": "python",
   "nbconvert_exporter": "python",
   "pygments_lexer": "ipython3",
   "version": "3.9.7"
  }
 },
 "nbformat": 4,
 "nbformat_minor": 5
}
