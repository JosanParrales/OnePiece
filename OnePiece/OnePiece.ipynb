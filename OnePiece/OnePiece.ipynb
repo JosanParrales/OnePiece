{
 "cells": [
  {
   "cell_type": "markdown",
   "id": "401bcc6b",
   "metadata": {},
   "source": [
    "# Proyecto One Piece\n",
    "\n",
    "**Autor:** José Antonio Parrales de la Cruz"
   ]
  },
  {
   "cell_type": "markdown",
   "id": "8a907665",
   "metadata": {},
   "source": [
    "El objetivo de este Notebook es trabajar con los datos del archivo csv que contiene los datos de unos capitulos de una serie llamada One Piece. "
   ]
  }
 ],
 "metadata": {
  "kernelspec": {
   "display_name": "Python 3 (ipykernel)",
   "language": "python",
   "name": "python3"
  },
  "language_info": {
   "codemirror_mode": {
    "name": "ipython",
    "version": 3
   },
   "file_extension": ".py",
   "mimetype": "text/x-python",
   "name": "python",
   "nbconvert_exporter": "python",
   "pygments_lexer": "ipython3",
   "version": "3.9.7"
  }
 },
 "nbformat": 4,
 "nbformat_minor": 5
}
