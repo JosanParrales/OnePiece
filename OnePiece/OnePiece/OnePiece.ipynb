{
 "cells": [
  {
   "cell_type": "markdown",
   "id": "a7f14860",
   "metadata": {},
   "source": [
    "# Proyecto One Piece\n",
    "\n",
    "**Autor:** José Antonio Parrales de la Cruz"
   ]
  },
  {
   "cell_type": "markdown",
   "id": "00c84038",
   "metadata": {},
   "source": [
    "El objetivo de este Notebook es trabajar con los datos del archivo csv que contiene los datos de unos capitulos de una serie llamada One Piece. "
   ]
  },
  {
   "cell_type": "code",
   "execution_count": 1,
   "id": "60c7cb07",
   "metadata": {},
   "outputs": [],
   "source": [
    "import csv\n",
    "from datetime import datetime\n",
    "from collections import namedtuple\n",
    "from enum import Enum"
   ]
  },
  {
   "cell_type": "markdown",
   "id": "38c8a8f2",
   "metadata": {},
   "source": [
    "# 1. Carga de datos\n",
    "Los datos se encuentran almacenados en un fichero en formato CSV codificado en UTF-8. En este Notebook se va a trabajar con los siguientes tipos de datos:\n",
    "\n",
    "   **Integer:** Número del capítulo, número de votos del capítulo\n",
    "   \n",
    "   **String:** Nombre del capítulo\n",
    "   \n",
    "   **Fecha:** Fecha de publicación\n",
    "   \n",
    "   **Double:** Nota media\n",
    "   \n",
    "   **Enumerado:** Arco argumental\n",
    "   \n",
    "Los datos se trabajarán como una lista de tuplas. Las primeras lineas del archivo son:"
   ]
  },
  {
   "attachments": {
    "Datos.png": {
     "image/png": "[encoded data removed]"
    }
   },
   "cell_type": "markdown",
   "id": "0415dbfc",
   "metadata": {},
   "source": [
    "![Datos.png](attachment:Datos.png)"
   ]
  },
  {
   "cell_type": "code",
   "execution_count": 2,
   "id": "239e9cfa",
   "metadata": {},
   "outputs": [],
   "source": [
    "class arcoEnum(Enum):\n",
    "    EastBlue = 1\n",
    "    Alabasta = 2\n",
    "    Skypea = 3\n",
    "    Water7 = 4\n",
    "    ThrillerBark = 5\n",
    "    Marineford = 6\n",
    "    Gyojin = 7\n",
    "    Dressrosa = 8\n",
    "    Zou = 9\n",
    "    WholeCake = 10\n",
    "    Reverie = 11\n",
    "    Wano = 12"
   ]
  },
  {
   "cell_type": "code",
   "execution_count": 3,
   "id": "f6819448",
   "metadata": {},
   "outputs": [],
   "source": [
    "Episodio = namedtuple('chapters', 'capitulo, arco, nombre, fecha, votos, nota')\n",
    "\n",
    "def lee_episodios(fichero):\n",
    "        with open(fichero, encoding='utf-8') as f:\n",
    "            lector = csv.reader(f)\n",
    "            next(lector)\n",
    "            capitulos = []\n",
    "            for capitulo, arco, nombre, fecha, votos, nota in lector:\n",
    "                capitulos.append(Episodio(int(capitulo),arco,str(nombre),datetime.strptime(fecha,'%d/%m/%Y'),int(votos), float(nota)))\n",
    "        return capitulos"
   ]
  },
  {
   "cell_type": "code",
   "execution_count": 4,
   "id": "fe20b5de",
   "metadata": {},
   "outputs": [
    {
     "name": "stdout",
     "output_type": "stream",
     "text": [
      "[chapters(capitulo=1, arco='EastBlue', nombre=\"I'm Luffy! The Man Who Will Become the Pirate King!\", fecha=datetime.datetime(1999, 10, 28, 0, 0), votos=647, nota=7.6), chapters(capitulo=2, arco='EastBlue', nombre='The Great Swordsman Appears! Pirate Hunter Roronoa Zoro', fecha=datetime.datetime(1999, 11, 17, 0, 0), votos=473, nota=7.8), chapters(capitulo=3, arco='EastBlue', nombre=\"Morgan vs. Luffy! Who's This Beautiful Young Girl?\", fecha=datetime.datetime(1999, 11, 24, 0, 0), votos=428, nota=7.7), chapters(capitulo=4, arco='EastBlue', nombre=\"Luffy's Past! The Red-haired Shanks Appears!\", fecha=datetime.datetime(1999, 12, 8, 0, 0), votos=449, nota=8.1), chapters(capitulo=5, arco='EastBlue', nombre='Fear Mysterious Power! Pirate Clown Captain Buggy!', fecha=datetime.datetime(1999, 12, 15, 0, 0), votos=370, nota=7.5)]\n"
     ]
    }
   ],
   "source": [
    "chapters = lee_episodios(r'.\\data\\One_Piece.csv')\n",
    "print(chapters[:5])"
   ]
  },
  {
   "cell_type": "markdown",
   "id": "ef600db0",
   "metadata": {},
   "source": [
    "# 2. Filtrado y conteo de datos"
   ]
  },
  {
   "cell_type": "markdown",
   "id": "0dc43dc1",
   "metadata": {},
   "source": [
    "Continuando con el proyecto, vamos a comenzar a trabajar los datos de la serie. Vamos a comenzar por hacer un filtrado en función del arco. Para eso haremos un filtrado de capítulos en cada arco y comparar la extensión de cada uno, pero como son demasiados capítulos, vamos a almacenar en un diccionario el número de capítulos en lugar de la lista de capítulos."
   ]
  },
  {
   "cell_type": "code",
   "execution_count": 5,
   "id": "77f6a22a",
   "metadata": {},
   "outputs": [],
   "source": [
    "def filtrado_por_arco(lista, arco):\n",
    "    \n",
    "    filtrados= list(filter(lambda x: arco in x, lista))\n",
    "    \n",
    "    return filtrados"
   ]
  },
  {
   "cell_type": "code",
   "execution_count": 6,
   "id": "4077d2f3",
   "metadata": {},
   "outputs": [
    {
     "data": {
      "text/plain": [
       "[chapters(capitulo=890, arco='Wano', nombre=\"Marco! The Keeper of Whitebeard's Last Memento!\", fecha=datetime.datetime(2016, 2, 13, 0, 0), votos=94, nota=7.2),\n",
       " chapters(capitulo=891, arco='Wano', nombre='Climbing Up a Waterfall! A Great Journey Through the Land of ...', fecha=datetime.datetime(2016, 2, 20, 0, 0), votos=161, nota=8.5),\n",
       " chapters(capitulo=892, arco='Wano', nombre='Wano Country! To the Land of Dancing Sakura and Samurai', fecha=datetime.datetime(2016, 2, 27, 0, 0), votos=340, nota=9.2),\n",
       " chapters(capitulo=893, arco='Wano', nombre=\"Otama Appears! Luffy vs. Kaido's Army!\", fecha=datetime.datetime(2016, 3, 5, 0, 0), votos=171, nota=8.8),\n",
       " chapters(capitulo=894, arco='Wano', nombre=\"He'll Come! The Legend of Ace in the Land of Wano!\", fecha=datetime.datetime(2016, 3, 12, 0, 0), votos=172, nota=8.8)]"
      ]
     },
     "execution_count": 6,
     "metadata": {},
     "output_type": "execute_result"
    }
   ],
   "source": [
    "#probamos la funcion\n",
    "filtrado_por_arco(chapters, 'Wano')[:5]"
   ]
  },
  {
   "cell_type": "code",
   "execution_count": 7,
   "id": "581a7d8a",
   "metadata": {},
   "outputs": [],
   "source": [
    "Arcos= set()\n",
    "#vamos a ver cuales son los arcos argumentales que hay en la serie\n",
    "def arcos(lista):\n",
    "    for episodio in lista:\n",
    "        Arcos.add(episodio[1])\n",
    "    return Arcos"
   ]
  },
  {
   "cell_type": "code",
   "execution_count": 8,
   "id": "e2cd43f1",
   "metadata": {},
   "outputs": [
    {
     "data": {
      "text/plain": [
       "{'Alabasta',\n",
       " 'Dressrosa',\n",
       " 'EastBlue',\n",
       " 'Gyojin',\n",
       " 'Marineford',\n",
       " 'Reverie',\n",
       " 'Skypea',\n",
       " 'ThrillerBark',\n",
       " 'Wano',\n",
       " 'Water7',\n",
       " 'WholeCake',\n",
       " 'Zou'}"
      ]
     },
     "execution_count": 8,
     "metadata": {},
     "output_type": "execute_result"
    }
   ],
   "source": [
    "arcos(chapters)"
   ]
  },
  {
   "cell_type": "code",
   "execution_count": 9,
   "id": "c57af827",
   "metadata": {},
   "outputs": [],
   "source": [
    "Dic={}\n",
    "def capitulos_por_arco(lista):\n",
    "    Dic.clear() #Usamos el clear para poder usar varias veces la funcion y que no se dupliquen los capítulos\n",
    "    for arco in Arcos:\n",
    "        Dic[arco] = len(filtrado_por_arco(lista, arco))\n",
    "#como queremos ver la extension de cada arco, no necesitamos los capitulos, por lo que usamos len para saber cuantos son\n",
    "    return Dic"
   ]
  },
  {
   "cell_type": "code",
   "execution_count": 10,
   "id": "b625e054",
   "metadata": {},
   "outputs": [
    {
     "data": {
      "text/plain": [
       "{'Skypea': 71,\n",
       " 'Wano': 69,\n",
       " 'Zou': 33,\n",
       " 'Marineford': 131,\n",
       " 'Water7': 118,\n",
       " 'Reverie': 12,\n",
       " 'EastBlue': 61,\n",
       " 'Gyojin': 59,\n",
       " 'Dressrosa': 172,\n",
       " 'WholeCake': 98,\n",
       " 'Alabasta': 74,\n",
       " 'ThrillerBark': 60}"
      ]
     },
     "execution_count": 10,
     "metadata": {},
     "output_type": "execute_result"
    }
   ],
   "source": [
    "capitulos_por_arco(chapters)"
   ]
  },
  {
   "cell_type": "markdown",
   "id": "6f093d50",
   "metadata": {},
   "source": [
    "# 3. Máximos, ordenación"
   ]
  },
  {
   "cell_type": "markdown",
   "id": "b1b5f733",
   "metadata": {},
   "source": [
    "En este apartado vamos a buscar los capítulos más gustados. Despues, vamos a ordenar los datos en base a ese resultado.\n",
    "\n",
    "Empezando por el capitulo de más nota, haremos una lista porque es posible que dos capítulos o más tengan la misma nota, por lo que ambos serían los que más nota tienen."
   ]
  },
  {
   "cell_type": "code",
   "execution_count": 11,
   "id": "dbe98b76",
   "metadata": {},
   "outputs": [],
   "source": [
    "mejorcap = []\n",
    "\n",
    "def capitulo_mayor_nota(lista):\n",
    "    mejorcap.clear()\n",
    "    for elemento in lista:\n",
    "        '''el primer elemento no se puede comparar a ninguno, por lo que usamos la siguiente instrucción para añadirlo \n",
    "        automaticamente a la lista del capítulo más gustado. De esta forma podemos comparar los demas capítulos y en caso\n",
    "        de que exista un capítulo con mejor nota, se elimine de la lista'''\n",
    "        if mejorcap == []: \n",
    "            mejorcap.append(elemento)\n",
    "        else:\n",
    "            if elemento[5] > mejorcap[0][5]:\n",
    "                mejorcap.clear() \n",
    "                mejorcap.append(elemento)\n",
    "            elif elemento[5] == mejorcap[0][5]:\n",
    "                mejorcap.append(elemento)\n",
    "            else:\n",
    "                continue \n",
    "    return mejorcap \n"
   ]
  },
  {
   "cell_type": "code",
   "execution_count": 12,
   "id": "0d7aa205",
   "metadata": {},
   "outputs": [
    {
     "data": {
      "text/plain": [
       "[chapters(capitulo=808, arco='WholeCake', nombre='Kanashiki Kettou: Luffy tai Sanji (Kouhen)', fecha=datetime.datetime(2014, 7, 19, 0, 0), votos=571, nota=9.6)]"
      ]
     },
     "execution_count": 12,
     "metadata": {},
     "output_type": "execute_result"
    }
   ],
   "source": [
    "capitulo_mayor_nota(chapters)"
   ]
  },
  {
   "cell_type": "markdown",
   "id": "b193a790",
   "metadata": {},
   "source": [
    "Tras esto, pasamos a ordenarlos en base a la nota. Sin embargo, Jupyter lo ordena de menor a mayor nota, así que tendremos que invertir ese orden"
   ]
  },
  {
   "cell_type": "code",
   "execution_count": 13,
   "id": "a50236c1",
   "metadata": {},
   "outputs": [],
   "source": [
    "def ordena_nota_menor(lista):\n",
    "    ordenados_nota = sorted(lista, key=lambda o: o[5])\n",
    "    return ordenados_nota"
   ]
  },
  {
   "cell_type": "code",
   "execution_count": 14,
   "id": "29ba28b6",
   "metadata": {},
   "outputs": [
    {
     "data": {
      "text/plain": [
       "[chapters(capitulo=748, arco='Zou', nombre='Chika Meikyuu: Luffy tai Torokko Ningen', fecha=datetime.datetime(2013, 5, 25, 0, 0), votos=101, nota=3.8),\n",
       " chapters(capitulo=749, arco='Zou', nombre='Kengi Hakunetsu: Law Zoro Tsui ni Kenzan!', fecha=datetime.datetime(2013, 6, 1, 0, 0), votos=96, nota=4.7),\n",
       " chapters(capitulo=747, arco='Zou', nombre='Gin no Yousai: Luffy to Barto Daibouken', fecha=datetime.datetime(2013, 5, 18, 0, 0), votos=109, nota=4.9),\n",
       " chapters(capitulo=336, arco='ThrillerBark', nombre='Shutsudou Chopperman! Mamore Nagisa no TV-kyoku', fecha=datetime.datetime(2005, 7, 2, 0, 0), votos=133, nota=5.6),\n",
       " chapters(capitulo=881, arco='Reverie', nombre='Going into Action! The Implacable New Admiral of the Fleet - ...', fecha=datetime.datetime(2015, 12, 12, 0, 0), votos=120, nota=5.6)]"
      ]
     },
     "execution_count": 14,
     "metadata": {},
     "output_type": "execute_result"
    }
   ],
   "source": [
    "ordena_nota_menor(chapters)[:5]"
   ]
  },
  {
   "cell_type": "code",
   "execution_count": 15,
   "id": "c6b41a25",
   "metadata": {},
   "outputs": [],
   "source": [
    "def ordena_nota_mayor(lista):\n",
    "    #para invertir el orden, sólo tenemos que añadir reverse=True a la funcion anterior\n",
    "    ordenados_nota = sorted(lista, reverse=True, key=lambda o: o[5])\n",
    "    return ordenados_nota"
   ]
  },
  {
   "cell_type": "code",
   "execution_count": 16,
   "id": "51a5c170",
   "metadata": {},
   "outputs": [
    {
     "data": {
      "text/plain": [
       "[chapters(capitulo=808, arco='WholeCake', nombre='Kanashiki Kettou: Luffy tai Sanji (Kouhen)', fecha=datetime.datetime(2014, 7, 19, 0, 0), votos=571, nota=9.6),\n",
       " chapters(capitulo=870, arco='WholeCake', nombre='A Fist of Divine Speed! Another Gear Four Application Activated!', fecha=datetime.datetime(2015, 9, 26, 0, 0), votos=683, nota=9.5),\n",
       " chapters(capitulo=483, arco='Marineford', nombre='Kotae o Sagashite: Hiken Ace Senjou ni Shisu', fecha=datetime.datetime(2008, 4, 26, 0, 0), votos=524, nota=9.3),\n",
       " chapters(capitulo=485, arco='Marineford', nombre='Kejime o Tsukeru: Shirohige vs Kurohige Kaizokudan', fecha=datetime.datetime(2008, 5, 10, 0, 0), votos=370, nota=9.3),\n",
       " chapters(capitulo=377, arco='ThrillerBark', nombre='Nakama no Itami wa Waga Itami: Zoro Kesshi no Tatakai', fecha=datetime.datetime(2006, 4, 15, 0, 0), votos=359, nota=9.2)]"
      ]
     },
     "execution_count": 16,
     "metadata": {},
     "output_type": "execute_result"
    }
   ],
   "source": [
    "ordena_nota_mayor(chapters)[:5]"
   ]
  },
  {
   "cell_type": "markdown",
   "id": "40226b05",
   "metadata": {},
   "source": [
    "# 4. Trabajando diccionarios\n",
    "En este apartado vamos a ordenar los capitulos en diccionarios. Empezaremos por los capitulos que se publicaron cada año, siguiendo con las notas medias de los arcos y acabando por los capítulos que estén entre unas notas concretas."
   ]
  },
  {
   "cell_type": "code",
   "execution_count": 17,
   "id": "020c2bbb",
   "metadata": {},
   "outputs": [],
   "source": [
    "Anyos= set()\n",
    "#Veamos en que años se publicó la serie\n",
    "def anyos(lista):\n",
    "    for episodio in lista:\n",
    "        Anyos.add(episodio[3].year)\n",
    "    return Anyos"
   ]
  },
  {
   "cell_type": "code",
   "execution_count": 18,
   "id": "9bd1bf4d",
   "metadata": {},
   "outputs": [
    {
     "data": {
      "text/plain": [
       "{1999,\n",
       " 2000,\n",
       " 2001,\n",
       " 2002,\n",
       " 2003,\n",
       " 2004,\n",
       " 2005,\n",
       " 2006,\n",
       " 2007,\n",
       " 2008,\n",
       " 2009,\n",
       " 2010,\n",
       " 2011,\n",
       " 2012,\n",
       " 2013,\n",
       " 2014,\n",
       " 2015,\n",
       " 2016,\n",
       " 2017}"
      ]
     },
     "execution_count": 18,
     "metadata": {},
     "output_type": "execute_result"
    }
   ],
   "source": [
    "anyos(chapters)"
   ]
  },
  {
   "cell_type": "code",
   "execution_count": 19,
   "id": "77b5bb39",
   "metadata": {},
   "outputs": [],
   "source": [
    "filtrados2 = []\n",
    "def filtrado_por_anyo(lista,anyo):\n",
    "    filtrados2.clear()\n",
    "    '''A diferencia del filtrado por arco, en este caso si necesitamos la funcion clear para evitar duplicados.\n",
    "    Esto se debe a que la funcion anterior, mediante el uso de una funcion lambda, podíamos hacer que la lista\n",
    "    se hiciera siempre desde 0, ya que le atribuiamos un valor mediante el caracter (=). En este caso, como usamos la\n",
    "    funcion append, es importante asegurarse que la lista estaba vacía ya que los elementos podrian estar varias veces'''\n",
    "    for capitulo in lista:\n",
    "        if capitulo[3].year==anyo:\n",
    "            filtrados2.append(capitulo)\n",
    "        else:\n",
    "            continue\n",
    "\n",
    "    return filtrados2"
   ]
  },
  {
   "cell_type": "code",
   "execution_count": 20,
   "id": "8492401f",
   "metadata": {},
   "outputs": [
    {
     "data": {
      "text/plain": [
       "[chapters(capitulo=1, arco='EastBlue', nombre=\"I'm Luffy! The Man Who Will Become the Pirate King!\", fecha=datetime.datetime(1999, 10, 28, 0, 0), votos=647, nota=7.6),\n",
       " chapters(capitulo=2, arco='EastBlue', nombre='The Great Swordsman Appears! Pirate Hunter Roronoa Zoro', fecha=datetime.datetime(1999, 11, 17, 0, 0), votos=473, nota=7.8),\n",
       " chapters(capitulo=3, arco='EastBlue', nombre=\"Morgan vs. Luffy! Who's This Beautiful Young Girl?\", fecha=datetime.datetime(1999, 11, 24, 0, 0), votos=428, nota=7.7),\n",
       " chapters(capitulo=4, arco='EastBlue', nombre=\"Luffy's Past! The Red-haired Shanks Appears!\", fecha=datetime.datetime(1999, 12, 8, 0, 0), votos=449, nota=8.1),\n",
       " chapters(capitulo=5, arco='EastBlue', nombre='Fear Mysterious Power! Pirate Clown Captain Buggy!', fecha=datetime.datetime(1999, 12, 15, 0, 0), votos=370, nota=7.5),\n",
       " chapters(capitulo=6, arco='EastBlue', nombre='Desperate Situation! Beast Tamer Mohji vs. Luffy!', fecha=datetime.datetime(1999, 12, 29, 0, 0), votos=364, nota=7.7),\n",
       " chapters(capitulo=7, arco='EastBlue', nombre='Sozetsu Ketto! Kengo Zoro VS Kyokugei no Kabaji!', fecha=datetime.datetime(1999, 12, 29, 0, 0), votos=344, nota=7.7),\n",
       " chapters(capitulo=8, arco='EastBlue', nombre='Shousha wa docchi? Akuma no mi no nouryoku taiketsu!', fecha=datetime.datetime(1999, 12, 29, 0, 0), votos=335, nota=7.7)]"
      ]
     },
     "execution_count": 20,
     "metadata": {},
     "output_type": "execute_result"
    }
   ],
   "source": [
    "filtrado_por_anyo(chapters, 1999)"
   ]
  },
  {
   "cell_type": "code",
   "execution_count": 21,
   "id": "b4470d89",
   "metadata": {},
   "outputs": [],
   "source": [
    "DicAnyo={}\n",
    "def capitulos_por_anyo(lista):\n",
    "    DicAnyo.clear()\n",
    "    for anyo in Anyos:\n",
    "        DicAnyo[anyo] = len(filtrado_por_anyo(lista, anyo))\n",
    "    return DicAnyo"
   ]
  },
  {
   "cell_type": "code",
   "execution_count": 22,
   "id": "0eaa7609",
   "metadata": {},
   "outputs": [
    {
     "data": {
      "text/plain": [
       "{1999: 8,\n",
       " 2000: 50,\n",
       " 2001: 95,\n",
       " 2002: 52,\n",
       " 2003: 52,\n",
       " 2004: 52,\n",
       " 2005: 53,\n",
       " 2006: 52,\n",
       " 2007: 52,\n",
       " 2008: 52,\n",
       " 2009: 52,\n",
       " 2010: 52,\n",
       " 2011: 53,\n",
       " 2012: 52,\n",
       " 2013: 52,\n",
       " 2014: 52,\n",
       " 2015: 52,\n",
       " 2016: 53,\n",
       " 2017: 22}"
      ]
     },
     "execution_count": 22,
     "metadata": {},
     "output_type": "execute_result"
    }
   ],
   "source": [
    "capitulos_por_anyo(chapters)"
   ]
  },
  {
   "cell_type": "markdown",
   "id": "517ff433",
   "metadata": {},
   "source": [
    "Para la nota media de los arcos, haremos algo muy similar a lo que hicimos con el diccionario de número de capítulos por arco ya que es necesario el número de capítulos para sacar la nota media, por lo que tomaremos parte de su código. Para no sobrecargar innecesariamente la pantalla, nos quedaremos con 2 decimales usando el comando round"
   ]
  },
  {
   "cell_type": "code",
   "execution_count": 23,
   "id": "0cc5231b",
   "metadata": {},
   "outputs": [],
   "source": [
    "total= 0\n",
    "MediaDic={}\n",
    "def media_arco(lista):\n",
    "    MediaDic.clear()\n",
    "    for arco in Arcos:\n",
    "        total=0\n",
    "        for elemento in filtrado_por_arco(lista, arco):\n",
    "            total= total+elemento[5]\n",
    "        MediaDic[arco] = round(total/len(filtrado_por_arco(lista, arco)),2)\n",
    "    return MediaDic"
   ]
  },
  {
   "cell_type": "code",
   "execution_count": 24,
   "id": "dc0d91e4",
   "metadata": {},
   "outputs": [
    {
     "data": {
      "text/plain": [
       "{'Skypea': 7.69,\n",
       " 'Wano': 8.0,\n",
       " 'Zou': 7.35,\n",
       " 'Marineford': 7.95,\n",
       " 'Water7': 7.83,\n",
       " 'Reverie': 6.98,\n",
       " 'EastBlue': 7.64,\n",
       " 'Gyojin': 7.51,\n",
       " 'Dressrosa': 7.85,\n",
       " 'WholeCake': 8.04,\n",
       " 'Alabasta': 7.74,\n",
       " 'ThrillerBark': 7.58}"
      ]
     },
     "execution_count": 24,
     "metadata": {},
     "output_type": "execute_result"
    }
   ],
   "source": [
    "media_arco(chapters)"
   ]
  },
  {
   "cell_type": "markdown",
   "id": "8163f1e3",
   "metadata": {},
   "source": [
    "Por último, tomaremos unas notas, las cuales marcarán los rangos en los que estarán los capítulos. Por simplificar los valores, tomaremos las medidas de Suspenso(<5), Aprobado(5-6.9), Notable(7-8.9) y Sobresaliente(9-10)"
   ]
  },
  {
   "cell_type": "code",
   "execution_count": 25,
   "id": "712398ba",
   "metadata": {},
   "outputs": [],
   "source": [
    "DicSus={} ;Suspensos=[];Aprobados=[];Notables=[];Sobresalientes=[]\n",
    "def aprov_sus(lista):\n",
    "    DicSus.clear();Suspensos.clear();Aprobados.clear();Notables.clear();Sobresalientes.clear()\n",
    "    for elemento in lista:\n",
    "        if elemento[5]>=0 and elemento[5]<5:\n",
    "            Suspensos.append(elemento)\n",
    "        elif elemento[5]>=5 and elemento[5]<=6.9:\n",
    "            Aprobados.append(elemento)\n",
    "        elif elemento[5]>=7 and elemento[5]<=8.9:\n",
    "            Notables.append(elemento)\n",
    "        elif elemento[5]>=9 and elemento[5]<=10:\n",
    "             Sobresalientes.append(elemento)\n",
    "    #como se puede ver, las notas fuera del rango(0-10) no entrarían, ya que seria\n",
    "    DicSus['Suspensos']=Suspensos;DicSus['Aprobados']=Aprobados;DicSus['Notables']=Notables\n",
    "    DicSus['Sobresalientes']=Sobresalientes\n",
    "    return DicSus"
   ]
  },
  {
   "cell_type": "code",
   "execution_count": 27,
   "id": "438ae8e4",
   "metadata": {},
   "outputs": [
    {
     "data": {
      "text/plain": [
       "[chapters(capitulo=126, arco='Alabasta', nombre='Koeteiku! Arabasta ni Ame ga Furu!', fecha=datetime.datetime(2001, 6, 16, 0, 0), votos=302, nota=9.0),\n",
       " chapters(capitulo=278, arco='Water7', nombre='Ikitai to Ie! Oretachi wa Nakama Da!!', fecha=datetime.datetime(2004, 5, 22, 0, 0), votos=280, nota=9.1),\n",
       " chapters(capitulo=309, arco='Water7', nombre='Kobushi ni Kometa Omoi! Luffy Konshin no Gatling', fecha=datetime.datetime(2004, 12, 25, 0, 0), votos=271, nota=9.0),\n",
       " chapters(capitulo=312, arco='Water7', nombre='Arigatou Merry! Yuki ni Kemuru Wakare no Umi', fecha=datetime.datetime(2005, 1, 15, 0, 0), votos=273, nota=9.0),\n",
       " chapters(capitulo=377, arco='ThrillerBark', nombre='Nakama no Itami wa Waga Itami: Zoro Kesshi no Tatakai', fecha=datetime.datetime(2006, 4, 15, 0, 0), votos=359, nota=9.2),\n",
       " chapters(capitulo=405, arco='Marineford', nombre='Kesareta Nakama-tachi: Mugiwara Ichimi Saigo no Hi', fecha=datetime.datetime(2006, 10, 28, 0, 0), votos=358, nota=9.2),\n",
       " chapters(capitulo=482, arco='Marineford', nombre='Hi o mo Yaki Tsukusu Chikara: Akainu Hijou no Tsuigeki', fecha=datetime.datetime(2008, 4, 19, 0, 0), votos=334, nota=9.1),\n",
       " chapters(capitulo=483, arco='Marineford', nombre='Kotae o Sagashite: Hiken Ace Senjou ni Shisu', fecha=datetime.datetime(2008, 4, 26, 0, 0), votos=524, nota=9.3),\n",
       " chapters(capitulo=484, arco='Marineford', nombre='Kaigun Honbu Houkai! Shirohige Kotobanaki Ikari!', fecha=datetime.datetime(2008, 5, 3, 0, 0), votos=285, nota=9.0),\n",
       " chapters(capitulo=485, arco='Marineford', nombre='Kejime o Tsukeru: Shirohige vs Kurohige Kaizokudan', fecha=datetime.datetime(2008, 5, 10, 0, 0), votos=370, nota=9.3),\n",
       " chapters(capitulo=719, arco='Dressrosa', nombre='Kuuchuu Kessen: Zoro Shin Hissastsu Ougi Sakuretsu!', fecha=datetime.datetime(2012, 11, 3, 0, 0), votos=262, nota=9.1),\n",
       " chapters(capitulo=726, arco='Dressrosa', nombre='Gear Fourth! Kyoui no Bounce Man!', fecha=datetime.datetime(2012, 12, 22, 0, 0), votos=328, nota=9.2),\n",
       " chapters(capitulo=804, arco='WholeCake', nombre='EastBlue e: Sanji Ketsui no Funade', fecha=datetime.datetime(2014, 6, 21, 0, 0), votos=215, nota=9.2),\n",
       " chapters(capitulo=808, arco='WholeCake', nombre='Kanashiki Kettou: Luffy tai Sanji (Kouhen)', fecha=datetime.datetime(2014, 7, 19, 0, 0), votos=571, nota=9.6),\n",
       " chapters(capitulo=817, arco='WholeCake', nombre=\"Shikemoku: Sanji no Kekkon Zen'ya\", fecha=datetime.datetime(2014, 9, 20, 0, 0), votos=242, nota=9.2),\n",
       " chapters(capitulo=833, arco='WholeCake', nombre='Returning the Sake Cup! The Manly Jimbei Pays His Debt!', fecha=datetime.datetime(2015, 1, 10, 0, 0), votos=194, nota=9.1),\n",
       " chapters(capitulo=868, arco='WholeCake', nombre=\"One Man's Determination! Katakuri's Deadly Big Fight!\", fecha=datetime.datetime(2015, 9, 12, 0, 0), votos=252, nota=9.1),\n",
       " chapters(capitulo=870, arco='WholeCake', nombre='A Fist of Divine Speed! Another Gear Four Application Activated!', fecha=datetime.datetime(2015, 9, 26, 0, 0), votos=683, nota=9.5),\n",
       " chapters(capitulo=877, arco='WholeCake', nombre=\"Time for Farewell! Pudding's One Last Request!\", fecha=datetime.datetime(2015, 11, 14, 0, 0), votos=235, nota=9.1),\n",
       " chapters(capitulo=892, arco='Wano', nombre='Wano Country! To the Land of Dancing Sakura and Samurai', fecha=datetime.datetime(2016, 2, 27, 0, 0), votos=340, nota=9.2),\n",
       " chapters(capitulo=912, arco='Wano', nombre='The Strongest Man in the World! Shutenmaru the Thieves Briga...', fecha=datetime.datetime(2016, 7, 16, 0, 0), votos=245, nota=9.0),\n",
       " chapters(capitulo=914, arco='Wano', nombre='Finally Clashing! The Ferocious Luffy vs. Kaido!', fecha=datetime.datetime(2016, 7, 30, 0, 0), votos=397, nota=9.2),\n",
       " chapters(capitulo=915, arco='Wano', nombre='Hakai-teki! Ichigeki Hissatsu no Raimei Hakke!', fecha=datetime.datetime(2016, 8, 6, 0, 0), votos=321, nota=9.1),\n",
       " chapters(capitulo=957, arco='Wano', nombre='Big News! The Warlords Attack Incident', fecha=datetime.datetime(2017, 5, 27, 0, 0), votos=2862, nota=9.1)]"
      ]
     },
     "execution_count": 27,
     "metadata": {},
     "output_type": "execute_result"
    }
   ],
   "source": [
    "aprov_sus(chapters).get('Sobresalientes')"
   ]
  },
  {
   "cell_type": "markdown",
   "id": "f4e87c61",
   "metadata": {},
   "source": [
    "# Work in progress... 🛠🛠"
   ]
  },
  {
   "cell_type": "code",
   "execution_count": null,
   "id": "70edc598",
   "metadata": {},
   "outputs": [],
   "source": []
  }
 ],
 "metadata": {
  "kernelspec": {
   "display_name": "Python 3 (ipykernel)",
   "language": "python",
   "name": "python3"
  },
  "language_info": {
   "codemirror_mode": {
    "name": "ipython",
    "version": 3
   },
   "file_extension": ".py",
   "mimetype": "text/x-python",
   "name": "python",
   "nbconvert_exporter": "python",
   "pygments_lexer": "ipython3",
   "version": "3.9.7"
  }
 },
 "nbformat": 4,
 "nbformat_minor": 5
}
